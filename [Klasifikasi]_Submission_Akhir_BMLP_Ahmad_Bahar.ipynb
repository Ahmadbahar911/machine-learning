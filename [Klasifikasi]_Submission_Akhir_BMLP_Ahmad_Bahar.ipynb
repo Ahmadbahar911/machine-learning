{
  "nbformat": 4,
  "nbformat_minor": 0,
  "metadata": {
    "colab": {
      "provenance": [],
      "include_colab_link": true
    },
    "kernelspec": {
      "name": "python3",
      "display_name": "Python 3"
    },
    "language_info": {
      "name": "python"
    }
  },
  "cells": [
    {
      "cell_type": "markdown",
      "metadata": {
        "id": "view-in-github",
        "colab_type": "text"
      },
      "source": [
        "<a href=\"https://colab.research.google.com/github/Ahmadbahar911/machine-learning/blob/main/%5BKlasifikasi%5D_Submission_Akhir_BMLP_Ahmad_Bahar.ipynb\" target=\"_parent\"><img src=\"https://colab.research.google.com/assets/colab-badge.svg\" alt=\"Open In Colab\"/></a>"
      ]
    },
    {
      "cell_type": "markdown",
      "source": [
        "# **1. Import Library**"
      ],
      "metadata": {
        "id": "fKADPWcFKlj3"
      }
    },
    {
      "cell_type": "code",
      "source": [
        "import pandas as pd\n",
        "import matplotlib.pyplot as plt\n",
        "import seaborn as sns\n",
        "from sklearn.model_selection import train_test_split\n",
        "from sklearn.preprocessing import StandardScaler\n",
        "from sklearn.linear_model import LogisticRegression\n",
        "from sklearn.tree import DecisionTreeClassifier\n",
        "from sklearn.ensemble import RandomForestClassifier\n",
        "from sklearn.neighbors import KNeighborsClassifier\n",
        "from sklearn.metrics import accuracy_score, classification_report, precision_score, recall_score, f1_score, accuracy_score"
      ],
      "metadata": {
        "id": "BlmvjLY9M4Yj"
      },
      "execution_count": 18,
      "outputs": []
    },
    {
      "cell_type": "code",
      "source": [
        "from google.colab import drive\n",
        "drive.mount('/content/drive')"
      ],
      "metadata": {
        "colab": {
          "base_uri": "https://localhost:8080/"
        },
        "id": "2dD6LVjoXAFU",
        "outputId": "678e91c4-78d1-4c50-becb-379c74855752"
      },
      "execution_count": 19,
      "outputs": [
        {
          "output_type": "stream",
          "name": "stdout",
          "text": [
            "Drive already mounted at /content/drive; to attempt to forcibly remount, call drive.mount(\"/content/drive\", force_remount=True).\n"
          ]
        }
      ]
    },
    {
      "cell_type": "markdown",
      "source": [
        "# **2. Memuat Dataset dari Hasil Clustering**"
      ],
      "metadata": {
        "id": "f3YIEnAFKrKL"
      }
    },
    {
      "cell_type": "code",
      "source": [
        "df_Spotify  = pd.read_csv(\"/content/drive/MyDrive/Colab Notebooks/Spotify_Clustered.csv\" )"
      ],
      "metadata": {
        "id": "GHCGNTyrM5fS"
      },
      "execution_count": 20,
      "outputs": []
    },
    {
      "cell_type": "code",
      "source": [
        "df_Spotify.head()"
      ],
      "metadata": {
        "colab": {
          "base_uri": "https://localhost:8080/",
          "height": 481
        },
        "id": "tGWtV41hXKOo",
        "outputId": "a0b31ffb-0999-4cae-a20a-4bc9cd4ddedc"
      },
      "execution_count": 21,
      "outputs": [
        {
          "output_type": "execute_result",
          "data": {
            "text/plain": [
              "                                                name  duration_ms  year  \\\n",
              "0                          !Que Vida! - Mono Version    -0.089785  1966   \n",
              "1                                        \"40\" - Live    -0.043225  1983   \n",
              "2                                               \"45\"    -0.238935  2012   \n",
              "3                                \"A\" You're Adorable    -0.658414  1961   \n",
              "4  \"Addio, mio dolce amor!\" from Edgar (Act III) ...     0.037124  1946   \n",
              "\n",
              "   acousticness  danceability    energy  instrumentalness  loudness  \\\n",
              "0      0.088342      0.349942  0.188732         -0.511130 -0.081674   \n",
              "1     -1.041701     -1.522271  0.727908         -0.473954  0.286059   \n",
              "2     -1.305087     -1.276829  1.798771         -0.521033  1.175529   \n",
              "3     -0.025938      0.435562 -0.429073         -0.521033  0.173701   \n",
              "4      1.297585     -2.161563 -1.196650         -0.517851 -1.190367   \n",
              "\n",
              "   speechiness     tempo  ...  key  popularity  explicit  artists_encoded  \\\n",
              "0    -0.408876  0.289982  ...    9          26         0            12160   \n",
              "1    -0.290992  0.849294  ...    8          41         0            20277   \n",
              "2     0.052005  1.988330  ...    8          48         0            18897   \n",
              "3    -0.414870 -0.204124  ...    0          44         0             2833   \n",
              "4    -0.320962  1.675192  ...   10           0         0             7240   \n",
              "\n",
              "       pca1      pca2  cluster      pca3      pca4  clusters_optimized  \n",
              "0  0.065243 -0.005954        1 -0.040348  0.019048                   1  \n",
              "1 -1.128937  1.858324        2 -0.406264  1.626924                   2  \n",
              "2 -0.282252  2.668820        2 -1.256089  2.266433                   2  \n",
              "3  1.026066 -0.649954        1  0.065888 -0.406230                   1  \n",
              "4 -2.936268  1.795830        0  1.298182  2.826725                   2  \n",
              "\n",
              "[5 rows x 22 columns]"
            ],
            "text/html": [
              "\n",
              "  <div id=\"df-c10b2d3a-7108-46d4-b4d4-f14f33166918\" class=\"colab-df-container\">\n",
              "    <div>\n",
              "<style scoped>\n",
              "    .dataframe tbody tr th:only-of-type {\n",
              "        vertical-align: middle;\n",
              "    }\n",
              "\n",
              "    .dataframe tbody tr th {\n",
              "        vertical-align: top;\n",
              "    }\n",
              "\n",
              "    .dataframe thead th {\n",
              "        text-align: right;\n",
              "    }\n",
              "</style>\n",
              "<table border=\"1\" class=\"dataframe\">\n",
              "  <thead>\n",
              "    <tr style=\"text-align: right;\">\n",
              "      <th></th>\n",
              "      <th>name</th>\n",
              "      <th>duration_ms</th>\n",
              "      <th>year</th>\n",
              "      <th>acousticness</th>\n",
              "      <th>danceability</th>\n",
              "      <th>energy</th>\n",
              "      <th>instrumentalness</th>\n",
              "      <th>loudness</th>\n",
              "      <th>speechiness</th>\n",
              "      <th>tempo</th>\n",
              "      <th>...</th>\n",
              "      <th>key</th>\n",
              "      <th>popularity</th>\n",
              "      <th>explicit</th>\n",
              "      <th>artists_encoded</th>\n",
              "      <th>pca1</th>\n",
              "      <th>pca2</th>\n",
              "      <th>cluster</th>\n",
              "      <th>pca3</th>\n",
              "      <th>pca4</th>\n",
              "      <th>clusters_optimized</th>\n",
              "    </tr>\n",
              "  </thead>\n",
              "  <tbody>\n",
              "    <tr>\n",
              "      <th>0</th>\n",
              "      <td>!Que Vida! - Mono Version</td>\n",
              "      <td>-0.089785</td>\n",
              "      <td>1966</td>\n",
              "      <td>0.088342</td>\n",
              "      <td>0.349942</td>\n",
              "      <td>0.188732</td>\n",
              "      <td>-0.511130</td>\n",
              "      <td>-0.081674</td>\n",
              "      <td>-0.408876</td>\n",
              "      <td>0.289982</td>\n",
              "      <td>...</td>\n",
              "      <td>9</td>\n",
              "      <td>26</td>\n",
              "      <td>0</td>\n",
              "      <td>12160</td>\n",
              "      <td>0.065243</td>\n",
              "      <td>-0.005954</td>\n",
              "      <td>1</td>\n",
              "      <td>-0.040348</td>\n",
              "      <td>0.019048</td>\n",
              "      <td>1</td>\n",
              "    </tr>\n",
              "    <tr>\n",
              "      <th>1</th>\n",
              "      <td>\"40\" - Live</td>\n",
              "      <td>-0.043225</td>\n",
              "      <td>1983</td>\n",
              "      <td>-1.041701</td>\n",
              "      <td>-1.522271</td>\n",
              "      <td>0.727908</td>\n",
              "      <td>-0.473954</td>\n",
              "      <td>0.286059</td>\n",
              "      <td>-0.290992</td>\n",
              "      <td>0.849294</td>\n",
              "      <td>...</td>\n",
              "      <td>8</td>\n",
              "      <td>41</td>\n",
              "      <td>0</td>\n",
              "      <td>20277</td>\n",
              "      <td>-1.128937</td>\n",
              "      <td>1.858324</td>\n",
              "      <td>2</td>\n",
              "      <td>-0.406264</td>\n",
              "      <td>1.626924</td>\n",
              "      <td>2</td>\n",
              "    </tr>\n",
              "    <tr>\n",
              "      <th>2</th>\n",
              "      <td>\"45\"</td>\n",
              "      <td>-0.238935</td>\n",
              "      <td>2012</td>\n",
              "      <td>-1.305087</td>\n",
              "      <td>-1.276829</td>\n",
              "      <td>1.798771</td>\n",
              "      <td>-0.521033</td>\n",
              "      <td>1.175529</td>\n",
              "      <td>0.052005</td>\n",
              "      <td>1.988330</td>\n",
              "      <td>...</td>\n",
              "      <td>8</td>\n",
              "      <td>48</td>\n",
              "      <td>0</td>\n",
              "      <td>18897</td>\n",
              "      <td>-0.282252</td>\n",
              "      <td>2.668820</td>\n",
              "      <td>2</td>\n",
              "      <td>-1.256089</td>\n",
              "      <td>2.266433</td>\n",
              "      <td>2</td>\n",
              "    </tr>\n",
              "    <tr>\n",
              "      <th>3</th>\n",
              "      <td>\"A\" You're Adorable</td>\n",
              "      <td>-0.658414</td>\n",
              "      <td>1961</td>\n",
              "      <td>-0.025938</td>\n",
              "      <td>0.435562</td>\n",
              "      <td>-0.429073</td>\n",
              "      <td>-0.521033</td>\n",
              "      <td>0.173701</td>\n",
              "      <td>-0.414870</td>\n",
              "      <td>-0.204124</td>\n",
              "      <td>...</td>\n",
              "      <td>0</td>\n",
              "      <td>44</td>\n",
              "      <td>0</td>\n",
              "      <td>2833</td>\n",
              "      <td>1.026066</td>\n",
              "      <td>-0.649954</td>\n",
              "      <td>1</td>\n",
              "      <td>0.065888</td>\n",
              "      <td>-0.406230</td>\n",
              "      <td>1</td>\n",
              "    </tr>\n",
              "    <tr>\n",
              "      <th>4</th>\n",
              "      <td>\"Addio, mio dolce amor!\" from Edgar (Act III) ...</td>\n",
              "      <td>0.037124</td>\n",
              "      <td>1946</td>\n",
              "      <td>1.297585</td>\n",
              "      <td>-2.161563</td>\n",
              "      <td>-1.196650</td>\n",
              "      <td>-0.517851</td>\n",
              "      <td>-1.190367</td>\n",
              "      <td>-0.320962</td>\n",
              "      <td>1.675192</td>\n",
              "      <td>...</td>\n",
              "      <td>10</td>\n",
              "      <td>0</td>\n",
              "      <td>0</td>\n",
              "      <td>7240</td>\n",
              "      <td>-2.936268</td>\n",
              "      <td>1.795830</td>\n",
              "      <td>0</td>\n",
              "      <td>1.298182</td>\n",
              "      <td>2.826725</td>\n",
              "      <td>2</td>\n",
              "    </tr>\n",
              "  </tbody>\n",
              "</table>\n",
              "<p>5 rows × 22 columns</p>\n",
              "</div>\n",
              "    <div class=\"colab-df-buttons\">\n",
              "\n",
              "  <div class=\"colab-df-container\">\n",
              "    <button class=\"colab-df-convert\" onclick=\"convertToInteractive('df-c10b2d3a-7108-46d4-b4d4-f14f33166918')\"\n",
              "            title=\"Convert this dataframe to an interactive table.\"\n",
              "            style=\"display:none;\">\n",
              "\n",
              "  <svg xmlns=\"http://www.w3.org/2000/svg\" height=\"24px\" viewBox=\"0 -960 960 960\">\n",
              "    <path d=\"M120-120v-720h720v720H120Zm60-500h600v-160H180v160Zm220 220h160v-160H400v160Zm0 220h160v-160H400v160ZM180-400h160v-160H180v160Zm440 0h160v-160H620v160ZM180-180h160v-160H180v160Zm440 0h160v-160H620v160Z\"/>\n",
              "  </svg>\n",
              "    </button>\n",
              "\n",
              "  <style>\n",
              "    .colab-df-container {\n",
              "      display:flex;\n",
              "      gap: 12px;\n",
              "    }\n",
              "\n",
              "    .colab-df-convert {\n",
              "      background-color: #E8F0FE;\n",
              "      border: none;\n",
              "      border-radius: 50%;\n",
              "      cursor: pointer;\n",
              "      display: none;\n",
              "      fill: #1967D2;\n",
              "      height: 32px;\n",
              "      padding: 0 0 0 0;\n",
              "      width: 32px;\n",
              "    }\n",
              "\n",
              "    .colab-df-convert:hover {\n",
              "      background-color: #E2EBFA;\n",
              "      box-shadow: 0px 1px 2px rgba(60, 64, 67, 0.3), 0px 1px 3px 1px rgba(60, 64, 67, 0.15);\n",
              "      fill: #174EA6;\n",
              "    }\n",
              "\n",
              "    .colab-df-buttons div {\n",
              "      margin-bottom: 4px;\n",
              "    }\n",
              "\n",
              "    [theme=dark] .colab-df-convert {\n",
              "      background-color: #3B4455;\n",
              "      fill: #D2E3FC;\n",
              "    }\n",
              "\n",
              "    [theme=dark] .colab-df-convert:hover {\n",
              "      background-color: #434B5C;\n",
              "      box-shadow: 0px 1px 3px 1px rgba(0, 0, 0, 0.15);\n",
              "      filter: drop-shadow(0px 1px 2px rgba(0, 0, 0, 0.3));\n",
              "      fill: #FFFFFF;\n",
              "    }\n",
              "  </style>\n",
              "\n",
              "    <script>\n",
              "      const buttonEl =\n",
              "        document.querySelector('#df-c10b2d3a-7108-46d4-b4d4-f14f33166918 button.colab-df-convert');\n",
              "      buttonEl.style.display =\n",
              "        google.colab.kernel.accessAllowed ? 'block' : 'none';\n",
              "\n",
              "      async function convertToInteractive(key) {\n",
              "        const element = document.querySelector('#df-c10b2d3a-7108-46d4-b4d4-f14f33166918');\n",
              "        const dataTable =\n",
              "          await google.colab.kernel.invokeFunction('convertToInteractive',\n",
              "                                                    [key], {});\n",
              "        if (!dataTable) return;\n",
              "\n",
              "        const docLinkHtml = 'Like what you see? Visit the ' +\n",
              "          '<a target=\"_blank\" href=https://colab.research.google.com/notebooks/data_table.ipynb>data table notebook</a>'\n",
              "          + ' to learn more about interactive tables.';\n",
              "        element.innerHTML = '';\n",
              "        dataTable['output_type'] = 'display_data';\n",
              "        await google.colab.output.renderOutput(dataTable, element);\n",
              "        const docLink = document.createElement('div');\n",
              "        docLink.innerHTML = docLinkHtml;\n",
              "        element.appendChild(docLink);\n",
              "      }\n",
              "    </script>\n",
              "  </div>\n",
              "\n",
              "\n",
              "<div id=\"df-aff484e4-7f6e-4216-9f60-c767b1eafc65\">\n",
              "  <button class=\"colab-df-quickchart\" onclick=\"quickchart('df-aff484e4-7f6e-4216-9f60-c767b1eafc65')\"\n",
              "            title=\"Suggest charts\"\n",
              "            style=\"display:none;\">\n",
              "\n",
              "<svg xmlns=\"http://www.w3.org/2000/svg\" height=\"24px\"viewBox=\"0 0 24 24\"\n",
              "     width=\"24px\">\n",
              "    <g>\n",
              "        <path d=\"M19 3H5c-1.1 0-2 .9-2 2v14c0 1.1.9 2 2 2h14c1.1 0 2-.9 2-2V5c0-1.1-.9-2-2-2zM9 17H7v-7h2v7zm4 0h-2V7h2v10zm4 0h-2v-4h2v4z\"/>\n",
              "    </g>\n",
              "</svg>\n",
              "  </button>\n",
              "\n",
              "<style>\n",
              "  .colab-df-quickchart {\n",
              "      --bg-color: #E8F0FE;\n",
              "      --fill-color: #1967D2;\n",
              "      --hover-bg-color: #E2EBFA;\n",
              "      --hover-fill-color: #174EA6;\n",
              "      --disabled-fill-color: #AAA;\n",
              "      --disabled-bg-color: #DDD;\n",
              "  }\n",
              "\n",
              "  [theme=dark] .colab-df-quickchart {\n",
              "      --bg-color: #3B4455;\n",
              "      --fill-color: #D2E3FC;\n",
              "      --hover-bg-color: #434B5C;\n",
              "      --hover-fill-color: #FFFFFF;\n",
              "      --disabled-bg-color: #3B4455;\n",
              "      --disabled-fill-color: #666;\n",
              "  }\n",
              "\n",
              "  .colab-df-quickchart {\n",
              "    background-color: var(--bg-color);\n",
              "    border: none;\n",
              "    border-radius: 50%;\n",
              "    cursor: pointer;\n",
              "    display: none;\n",
              "    fill: var(--fill-color);\n",
              "    height: 32px;\n",
              "    padding: 0;\n",
              "    width: 32px;\n",
              "  }\n",
              "\n",
              "  .colab-df-quickchart:hover {\n",
              "    background-color: var(--hover-bg-color);\n",
              "    box-shadow: 0 1px 2px rgba(60, 64, 67, 0.3), 0 1px 3px 1px rgba(60, 64, 67, 0.15);\n",
              "    fill: var(--button-hover-fill-color);\n",
              "  }\n",
              "\n",
              "  .colab-df-quickchart-complete:disabled,\n",
              "  .colab-df-quickchart-complete:disabled:hover {\n",
              "    background-color: var(--disabled-bg-color);\n",
              "    fill: var(--disabled-fill-color);\n",
              "    box-shadow: none;\n",
              "  }\n",
              "\n",
              "  .colab-df-spinner {\n",
              "    border: 2px solid var(--fill-color);\n",
              "    border-color: transparent;\n",
              "    border-bottom-color: var(--fill-color);\n",
              "    animation:\n",
              "      spin 1s steps(1) infinite;\n",
              "  }\n",
              "\n",
              "  @keyframes spin {\n",
              "    0% {\n",
              "      border-color: transparent;\n",
              "      border-bottom-color: var(--fill-color);\n",
              "      border-left-color: var(--fill-color);\n",
              "    }\n",
              "    20% {\n",
              "      border-color: transparent;\n",
              "      border-left-color: var(--fill-color);\n",
              "      border-top-color: var(--fill-color);\n",
              "    }\n",
              "    30% {\n",
              "      border-color: transparent;\n",
              "      border-left-color: var(--fill-color);\n",
              "      border-top-color: var(--fill-color);\n",
              "      border-right-color: var(--fill-color);\n",
              "    }\n",
              "    40% {\n",
              "      border-color: transparent;\n",
              "      border-right-color: var(--fill-color);\n",
              "      border-top-color: var(--fill-color);\n",
              "    }\n",
              "    60% {\n",
              "      border-color: transparent;\n",
              "      border-right-color: var(--fill-color);\n",
              "    }\n",
              "    80% {\n",
              "      border-color: transparent;\n",
              "      border-right-color: var(--fill-color);\n",
              "      border-bottom-color: var(--fill-color);\n",
              "    }\n",
              "    90% {\n",
              "      border-color: transparent;\n",
              "      border-bottom-color: var(--fill-color);\n",
              "    }\n",
              "  }\n",
              "</style>\n",
              "\n",
              "  <script>\n",
              "    async function quickchart(key) {\n",
              "      const quickchartButtonEl =\n",
              "        document.querySelector('#' + key + ' button');\n",
              "      quickchartButtonEl.disabled = true;  // To prevent multiple clicks.\n",
              "      quickchartButtonEl.classList.add('colab-df-spinner');\n",
              "      try {\n",
              "        const charts = await google.colab.kernel.invokeFunction(\n",
              "            'suggestCharts', [key], {});\n",
              "      } catch (error) {\n",
              "        console.error('Error during call to suggestCharts:', error);\n",
              "      }\n",
              "      quickchartButtonEl.classList.remove('colab-df-spinner');\n",
              "      quickchartButtonEl.classList.add('colab-df-quickchart-complete');\n",
              "    }\n",
              "    (() => {\n",
              "      let quickchartButtonEl =\n",
              "        document.querySelector('#df-aff484e4-7f6e-4216-9f60-c767b1eafc65 button');\n",
              "      quickchartButtonEl.style.display =\n",
              "        google.colab.kernel.accessAllowed ? 'block' : 'none';\n",
              "    })();\n",
              "  </script>\n",
              "</div>\n",
              "\n",
              "    </div>\n",
              "  </div>\n"
            ],
            "application/vnd.google.colaboratory.intrinsic+json": {
              "type": "dataframe",
              "variable_name": "df_Spotify"
            }
          },
          "metadata": {},
          "execution_count": 21
        }
      ]
    },
    {
      "cell_type": "code",
      "source": [
        "# Select features and target\n",
        "features = ['acousticness', 'danceability', 'energy', 'instrumentalness', 'loudness',\n",
        "            'speechiness', 'tempo', 'valence', 'mode', 'key', 'popularity', 'explicit']\n",
        "target = 'clusters_optimized'\n",
        "\n",
        "X = df_Spotify[features]\n",
        "y = df_Spotify[target]"
      ],
      "metadata": {
        "id": "gbyfn8ymXOxR"
      },
      "execution_count": 22,
      "outputs": []
    },
    {
      "cell_type": "markdown",
      "source": [
        "# **3. Data Splitting**"
      ],
      "metadata": {
        "id": "KkPem5eWL2UP"
      }
    },
    {
      "cell_type": "code",
      "source": [
        "# Split data into training and testing sets\n",
        "X_train, X_test, y_train, y_test = train_test_split(X, y, test_size=0.3, random_state=42, stratify=y)\n"
      ],
      "metadata": {
        "id": "OubAW-7ONKVj"
      },
      "execution_count": 23,
      "outputs": []
    },
    {
      "cell_type": "code",
      "source": [
        "# Scale the features\n",
        "scaler = StandardScaler()\n",
        "X_train_scaled = scaler.fit_transform(X_train)\n",
        "X_test_scaled = scaler.transform(X_test)"
      ],
      "metadata": {
        "id": "Mkes_PUfXn1g"
      },
      "execution_count": 24,
      "outputs": []
    },
    {
      "cell_type": "markdown",
      "source": [
        "# **4. Membangun Model Klasifikasi**\n"
      ],
      "metadata": {
        "id": "IVPbB03CMhTT"
      }
    },
    {
      "cell_type": "markdown",
      "source": [
        "## **a. Membangun Model Klasifikasi**"
      ],
      "metadata": {
        "id": "Ned1pL9zMmBK"
      }
    },
    {
      "cell_type": "code",
      "source": [
        "# Initialize models\n",
        "models = {\n",
        "    \"Logistic Regression\": LogisticRegression(max_iter=1000, random_state=42),\n",
        "    \"Decision Tree\": DecisionTreeClassifier(random_state=42),\n",
        "    \"Random Forest\": RandomForestClassifier(random_state=42),\n",
        "    \"K-Nearest Neighbors\": KNeighborsClassifier(n_neighbors=5)\n",
        "}"
      ],
      "metadata": {
        "id": "4JYxBe87NLDk"
      },
      "execution_count": 25,
      "outputs": []
    },
    {
      "cell_type": "code",
      "source": [
        "\n",
        "# Train and evaluate each model\n",
        "results = {}\n",
        "for name, model in models.items():\n",
        "    # Train the model\n",
        "    model.fit(X_train_scaled, y_train)\n",
        "    # Predict on test data\n",
        "    y_pred = model.predict(X_test_scaled)\n",
        "    # Evaluate the model\n",
        "    accuracy = accuracy_score(y_test, y_pred)\n",
        "    report = classification_report(y_test, y_pred, output_dict=True)\n",
        "    results[name] = {\"accuracy\": accuracy, \"classification_report\": report}\n"
      ],
      "metadata": {
        "id": "YvMUPUI1Xf3q"
      },
      "execution_count": 26,
      "outputs": []
    },
    {
      "cell_type": "markdown",
      "source": [
        "Berikut adalah narasi penjelasan mengenai algoritma yang digunakan dalam evaluasi:\n",
        "\n",
        "---\n",
        "\n",
        "### **1. Logistic Regression**\n",
        "Logistic Regression adalah algoritma supervised learning yang digunakan untuk klasifikasi. Algoritma ini bekerja dengan memodelkan hubungan antara variabel fitur (independen) dan target (dependen) menggunakan fungsi logistik (sigmoid). Logistic Regression menghasilkan probabilitas sebuah data termasuk dalam suatu kelas, kemudian menetapkan kelas berdasarkan probabilitas tersebut (biasanya dengan ambang batas 0.5).\n",
        "\n",
        "#### Karakteristik:\n",
        "- **Kelebihan**:\n",
        "  - Sederhana dan cepat untuk diimplementasikan.\n",
        "  - Cocok untuk dataset dengan hubungan linier antara fitur dan target.\n",
        "  - Memiliki interpretabilitas yang baik melalui koefisien fitur.\n",
        "- **Kelemahan**:\n",
        "  - Tidak cocok untuk hubungan non-linear tanpa transformasi fitur.\n",
        "  - Sensitif terhadap outlier.\n",
        "\n",
        "---\n",
        "\n",
        "### **2. Decision Tree**\n",
        "Decision Tree adalah algoritma berbasis pohon yang membagi dataset secara rekursif berdasarkan fitur yang memberikan informasi terbaik (misalnya, menggunakan Gini Impurity atau Entropy). Setiap simpul dalam pohon mewakili suatu kondisi (split), dan cabang-cabangnya mengarahkan ke keputusan akhir (kelas).\n",
        "\n",
        "#### Karakteristik:\n",
        "- **Kelebihan**:\n",
        "  - Mudah dipahami dan diinterpretasikan.\n",
        "  - Menangkap hubungan non-linear antara fitur dan target.\n",
        "  - Tidak memerlukan normalisasi atau scaling data.\n",
        "- **Kelemahan**:\n",
        "  - Rentan terhadap overfitting, terutama jika pohon terlalu dalam.\n",
        "  - Kinerja dapat terganggu oleh data yang tidak seimbang.\n",
        "\n",
        "---\n",
        "\n",
        "### **3. Random Forest**\n",
        "Random Forest adalah algoritma ensemble yang menggabungkan prediksi dari banyak pohon keputusan (decision trees) untuk meningkatkan akurasi dan stabilitas. Setiap pohon dilatih pada subset acak dari data (bagging) dan menggunakan subset fitur yang dipilih secara acak saat setiap split dibuat.\n",
        "\n",
        "#### Karakteristik:\n",
        "- **Kelebihan**:\n",
        "  - Mengurangi risiko overfitting dibandingkan Decision Tree tunggal.\n",
        "  - Cocok untuk hubungan non-linear dan dataset kompleks.\n",
        "  - Mendukung class weighting untuk menangani class imbalance.\n",
        "- **Kelemahan**:\n",
        "  - Memerlukan lebih banyak sumber daya komputasi.\n",
        "  - Interpretabilitas lebih rendah dibandingkan Decision Tree.\n",
        "\n",
        "---\n",
        "\n",
        "### **4. K-Nearest Neighbors (KNN)**\n",
        "KNN adalah algoritma berbasis instance yang melakukan klasifikasi berdasarkan kedekatan (jarak) data baru ke data yang ada dalam training set. Algoritma ini menentukan kelas berdasarkan mayoritas kelas dari tetangga terdekat dalam ruang fitur.\n",
        "\n",
        "#### Karakteristik:\n",
        "- **Kelebihan**:\n",
        "  - Sederhana dan intuitif.\n",
        "  - Tidak memerlukan pelatihan eksplisit (lazy learning).\n",
        "- **Kelemahan**:\n",
        "  - Sensitif terhadap outlier dan noise.\n",
        "  - Performa menurun pada dataset besar atau dengan dimensi tinggi.\n",
        "  - Memerlukan scaling data (misalnya, StandardScaler) untuk menghitung jarak dengan benar.\n",
        "\n",
        "---\n",
        "\n",
        "### **Kesimpulan**\n",
        "- **Logistic Regression**: Cocok untuk hubungan linier dan dataset sederhana.\n",
        "- **Decision Tree**: Memberikan interpretasi yang baik tetapi perlu di-prune untuk menghindari overfitting.\n",
        "- **Random Forest**: Pilihan yang kuat untuk dataset kompleks dan masalah non-linear.\n",
        "- **KNN**: Baik untuk dataset kecil dengan pola sederhana tetapi kurang efektif untuk dataset besar atau tidak terstruktur.\n",
        "\n"
      ],
      "metadata": {
        "id": "seYoHNY3XU1y"
      }
    },
    {
      "cell_type": "markdown",
      "source": [
        "## **b. Evaluasi Model Klasifikasi**"
      ],
      "metadata": {
        "id": "ergzChZFEL-O"
      }
    },
    {
      "cell_type": "code",
      "source": [
        "# Extracting results\n",
        "results_summary = {name: {\"accuracy\": res[\"accuracy\"]} for name, res in results.items()}\n",
        "print(\"Model Performance Summary:\")\n",
        "results_summary"
      ],
      "metadata": {
        "id": "tMq4QAssNLip",
        "colab": {
          "base_uri": "https://localhost:8080/"
        },
        "outputId": "c6170c90-4545-4421-9826-bd9f26bb36d1"
      },
      "execution_count": 27,
      "outputs": [
        {
          "output_type": "stream",
          "name": "stdout",
          "text": [
            "Model Performance Summary:\n"
          ]
        },
        {
          "output_type": "execute_result",
          "data": {
            "text/plain": [
              "{'Logistic Regression': {'accuracy': 0.9988900164911836},\n",
              " 'Decision Tree': {'accuracy': 0.9837625269567424},\n",
              " 'Random Forest': {'accuracy': 0.9858239249016871},\n",
              " 'K-Nearest Neighbors': {'accuracy': 0.9327032855511861}}"
            ]
          },
          "metadata": {},
          "execution_count": 27
        }
      ]
    },
    {
      "cell_type": "code",
      "source": [
        "import matplotlib.pyplot as plt\n",
        "import seaborn as sns\n",
        "from sklearn.metrics import confusion_matrix, precision_score, recall_score, f1_score, accuracy_score\n",
        "\n",
        "# Function to plot confusion matrix\n",
        "def plot_confusion_matrix(cm, model_name):\n",
        "    plt.figure(figsize=(8, 6))\n",
        "    sns.heatmap(cm, annot=True, fmt='d', cmap='Blues', xticklabels=set(y), yticklabels=set(y))\n",
        "    plt.title(f\"Confusion Matrix - {model_name}\")\n",
        "    plt.xlabel(\"Predicted\")\n",
        "    plt.ylabel(\"Actual\")\n",
        "    plt.show()\n",
        "\n",
        "# Analyze each model separately\n",
        "for name, model in models.items():\n",
        "    # Predict on test data\n",
        "    y_pred = model.predict(X_test_scaled)\n",
        "\n",
        "    # Compute metrics\n",
        "    cm = confusion_matrix(y_test, y_pred)\n",
        "    accuracy = accuracy_score(y_test, y_pred)\n",
        "    precision = precision_score(y_test, y_pred, average='weighted')\n",
        "    recall = recall_score(y_test, y_pred, average='weighted')\n",
        "    f1 = f1_score(y_test, y_pred, average='weighted')\n",
        "\n",
        "    # Display results\n",
        "    print(f\"Model: {name}\")\n",
        "    print(f\"Accuracy: {accuracy:.4f}\")\n",
        "    print(f\"Precision: {precision:.4f}\")\n",
        "    print(f\"Recall: {recall:.4f}\")\n",
        "    print(f\"F1 Score: {f1:.4f}\")\n",
        "    print(\"Confusion Matrix:\")\n",
        "    print(cm)\n",
        "\n",
        "    # Plot the confusion matrix\n",
        "    plot_confusion_matrix(cm, name)\n",
        "\n",
        "    print(\"-\" * 50)\n"
      ],
      "metadata": {
        "colab": {
          "base_uri": "https://localhost:8080/",
          "height": 1000
        },
        "id": "D7X6nDVCalUN",
        "outputId": "f5c2ac0f-42d1-40e4-959b-383dda6b3fee"
      },
      "execution_count": 28,
      "outputs": [
        {
          "output_type": "stream",
          "name": "stdout",
          "text": [
            "Model: Logistic Regression\n",
            "Accuracy: 0.9989\n",
            "Precision: 0.9989\n",
            "Recall: 0.9989\n",
            "F1 Score: 0.9989\n",
            "Confusion Matrix:\n",
            "[[10779     7     3]\n",
            " [    8 12948     4]\n",
            " [    4     9  7770]]\n"
          ]
        },
        {
          "output_type": "display_data",
          "data": {
            "text/plain": [
              "<Figure size 800x600 with 2 Axes>"
            ],
            "image/png": "[encoded data removed]"
          },
          "metadata": {}
        },
        {
          "output_type": "stream",
          "name": "stdout",
          "text": [
            "--------------------------------------------------\n",
            "Model: Decision Tree\n",
            "Accuracy: 0.9838\n",
            "Precision: 0.9838\n",
            "Recall: 0.9838\n",
            "F1 Score: 0.9838\n",
            "Confusion Matrix:\n",
            "[[10618   108    63]\n",
            " [  123 12762    75]\n",
            " [   64    79  7640]]\n"
          ]
        },
        {
          "output_type": "display_data",
          "data": {
            "text/plain": [
              "<Figure size 800x600 with 2 Axes>"
            ],
            "image/png": "[encoded data removed]"
          },
          "metadata": {}
        },
        {
          "output_type": "stream",
          "name": "stdout",
          "text": [
            "--------------------------------------------------\n",
            "Model: Random Forest\n",
            "Accuracy: 0.9858\n",
            "Precision: 0.9858\n",
            "Recall: 0.9858\n",
            "F1 Score: 0.9858\n",
            "Confusion Matrix:\n",
            "[[10642   118    29]\n",
            " [  110 12795    55]\n",
            " [   58    77  7648]]\n"
          ]
        },
        {
          "output_type": "display_data",
          "data": {
            "text/plain": [
              "<Figure size 800x600 with 2 Axes>"
            ],
            "image/png": "[encoded data removed]"
          },
          "metadata": {}
        },
        {
          "output_type": "stream",
          "name": "stdout",
          "text": [
            "--------------------------------------------------\n",
            "Model: K-Nearest Neighbors\n",
            "Accuracy: 0.9327\n",
            "Precision: 0.9330\n",
            "Recall: 0.9327\n",
            "F1 Score: 0.9326\n",
            "Confusion Matrix:\n",
            "[[10237   438   114]\n",
            " [  449 12235   276]\n",
            " [  318   527  6938]]\n"
          ]
        },
        {
          "output_type": "display_data",
          "data": {
            "text/plain": [
              "<Figure size 800x600 with 2 Axes>"
            ],
            "image/png": "[encoded data removed]"
          },
          "metadata": {}
        },
        {
          "output_type": "stream",
          "name": "stdout",
          "text": [
            "--------------------------------------------------\n"
          ]
        }
      ]
    },
    {
      "cell_type": "markdown",
      "source": [
        "### Evaluasi dan Perbandingan Algoritma\n",
        "\n",
        "Berdasarkan hasil evaluasi pada empat algoritma yang digunakan untuk klasifikasi dataset Spotify, berikut adalah ringkasan kinerja masing-masing model:\n",
        "\n",
        "---\n",
        "\n",
        "#### 1. **Logistic Regression**\n",
        "- **Accuracy**: 99.89%\n",
        "- **Precision**: 99.89%\n",
        "- **Recall**: 99.89%\n",
        "- **F1 Score**: 99.89%\n",
        "\n",
        "**Analisis**:\n",
        "Logistic Regression menunjukkan performa yang luar biasa dengan akurasi hampir sempurna. Ini menunjukkan bahwa model ini sangat baik dalam memisahkan data berdasarkan karakteristiknya. Kinerja ini ideal jika hubungan antara fitur dan target bersifat linear.\n",
        "\n",
        "---\n",
        "\n",
        "#### 2. **Decision Tree**\n",
        "- **Accuracy**: 98.38%\n",
        "- **Precision**: 98.38%\n",
        "- **Recall**: 98.38%\n",
        "- **F1 Score**: 98.38%\n",
        "\n",
        "**Analisis**:\n",
        "Decision Tree memberikan performa yang sangat baik, meskipun sedikit lebih rendah dibanding Logistic Regression. Ini wajar karena Decision Tree lebih rentan terhadap overfitting pada dataset tertentu, terutama tanpa parameter tuning. Namun, model ini memberikan interpretabilitas yang tinggi.\n",
        "\n",
        "---\n",
        "\n",
        "#### 3. **Random Forest**\n",
        "- **Accuracy**: 98.58%\n",
        "- **Precision**: 98.58%\n",
        "- **Recall**: 98.58%\n",
        "- **F1 Score**: 98.58%\n",
        "\n",
        "**Analisis**:\n",
        "Random Forest menunjukkan kinerja yang sedikit lebih baik daripada Decision Tree. Sebagai metode ensemble, Random Forest mengurangi risiko overfitting dengan menggabungkan banyak pohon keputusan, menghasilkan performa yang stabil. Ini adalah pilihan yang sangat baik untuk dataset kompleks.\n",
        "\n",
        "---\n",
        "\n",
        "#### 4. **K-Nearest Neighbors (KNN)**\n",
        "- **Accuracy**: 93.27%\n",
        "- **Precision**: 93.30%\n",
        "- **Recall**: 93.27%\n",
        "- **F1 Score**: 93.26%\n",
        "\n",
        "**Analisis**:\n",
        "KNN memiliki performa paling rendah di antara keempat algoritma, dengan akurasi 93.27%. Ini mungkin disebabkan oleh ketergantungannya pada jarak antar sampel, yang bisa terpengaruh oleh distribusi data atau outlier. Meskipun lebih sederhana, model ini dapat dioptimalkan dengan memilih jumlah tetangga (`n_neighbors`) yang lebih sesuai.\n",
        "\n",
        "---\n",
        "\n",
        "### Perbandingan dan Kesimpulan\n",
        "| **Model**              | **Accuracy** | **Precision** | **Recall** | **F1 Score** |\n",
        "|-------------------------|--------------|---------------|------------|--------------|\n",
        "| Logistic Regression     | 99.89%       | 99.89%        | 99.89%     | 99.89%       |\n",
        "| Decision Tree           | 98.38%       | 98.38%        | 98.38%     | 98.38%       |\n",
        "| Random Forest           | 98.58%       | 98.58%        | 98.58%     | 98.58%       |\n",
        "| K-Nearest Neighbors     | 93.27%       | 93.30%        | 93.27%     | 93.26%       |\n",
        "\n",
        "1. **Logistic Regression** adalah algoritma terbaik dalam skenario ini, dengan performa hampir sempurna. Ini cocok untuk dataset dengan hubungan linear antara fitur dan target.\n",
        "2. **Random Forest** memiliki performa yang mendekati Logistic Regression, memberikan keseimbangan yang baik antara akurasi dan generalisasi.\n",
        "3. **Decision Tree** cukup kompetitif tetapi lebih rentan terhadap overfitting dibanding Random Forest.\n",
        "4. **KNN** memberikan hasil yang cukup baik tetapi kinerjanya lebih rendah dibandingkan algoritma lain, terutama pada dataset besar atau kompleks.\n",
        "\n",
        "### Rekomendasi\n",
        "- Gunakan **Logistic Regression** jika interpretasi linearitas dataset dianggap relevan.\n",
        "- Pilih **Random Forest** untuk memastikan generalisasi yang baik pada dataset yang lebih kompleks.\n",
        "- Optimalkan **KNN** atau **Decision Tree** dengan parameter tuning jika diperlukan."
      ],
      "metadata": {
        "id": "H4_9OwrsXZlz"
      }
    },
    {
      "cell_type": "markdown",
      "source": [
        "## **c. Tuning Model Klasifikasi (Optional)**"
      ],
      "metadata": {
        "id": "ph9yIYDXEPuB"
      }
    },
    {
      "cell_type": "markdown",
      "source": [
        "Gunakan GridSearchCV, RandomizedSearchCV, atau metode lainnya untuk mencari kombinasi hyperparameter terbaik"
      ],
      "metadata": {
        "id": "-Bikx3LINv5e"
      }
    },
    {
      "cell_type": "code",
      "source": [
        "#Type your code here"
      ],
      "metadata": {
        "id": "winbFzb8NL95"
      },
      "execution_count": 29,
      "outputs": []
    },
    {
      "cell_type": "markdown",
      "source": [
        "## **d. Evaluasi Model Klasifikasi setelah Tuning (Optional)**"
      ],
      "metadata": {
        "id": "hE7pqlEPEYzI"
      }
    },
    {
      "cell_type": "markdown",
      "source": [
        "Berikut adalah rekomendasi tahapannya.\n",
        "1. Gunakan model dengan hyperparameter terbaik.\n",
        "2. Hitung ulang metrik evaluasi untuk melihat apakah ada peningkatan performa."
      ],
      "metadata": {
        "id": "feaPESoeN0zz"
      }
    },
    {
      "cell_type": "code",
      "source": [
        "#Type your code here"
      ],
      "metadata": {
        "id": "HTXZRvEeNMb1"
      },
      "execution_count": 30,
      "outputs": []
    },
    {
      "cell_type": "markdown",
      "source": [
        "## **e. Analisis Hasil Evaluasi Model Klasifikasi**"
      ],
      "metadata": {
        "id": "ZRsOdm4uEgAW"
      }
    },
    {
      "cell_type": "markdown",
      "source": [
        "### **Identifikasi Kelemahan Model**\n",
        "\n",
        "1. **Precision atau Recall Rendah untuk Kelas Tertentu**:\n",
        "   - Dari data keseluruhan, model Logistic Regression, Decision Tree, dan Random Forest memiliki precision, recall, dan F1 score yang tinggi dan seragam di semua metrik.\n",
        "   - **K-Nearest Neighbors (KNN)** memiliki kinerja paling rendah dibanding model lainnya, dengan F1 score 93.26%. Hal ini menunjukkan bahwa model ini mungkin kesulitan menangkap pola pada data, terutama jika terdapat kelas yang distribusinya tidak merata atau fitur kurang signifikan.\n",
        "\n",
        "   **Langkah Pendalaman**:\n",
        "   - Periksa **classification report** untuk setiap algoritma guna mengidentifikasi kelas yang memiliki precision atau recall rendah. Jika ada kelas tertentu dengan recall rendah, model mungkin kesulitan mendeteksi kelas tersebut (false negatives tinggi).\n",
        "   - Analisis distribusi kelas dan fitur untuk mengidentifikasi ketidakseimbangan atau noise yang memengaruhi prediksi.\n",
        "\n",
        "2. **Overfitting atau Underfitting**:\n",
        "   - **Logistic Regression**: Tidak ada indikasi overfitting atau underfitting. Performanya sangat tinggi dan seimbang di training dan testing (linear relationships cocok dengan data).\n",
        "   - **Decision Tree**: Kemungkinan mengalami sedikit overfitting karena model ini cenderung kompleks tanpa pruning. Meskipun akurasinya tinggi (98.38%), perbedaan kecil dengan Random Forest menunjukkan Random Forest lebih stabil.\n",
        "   - **Random Forest**: Tidak menunjukkan tanda overfitting atau underfitting karena stabilitas ensemble.\n",
        "   - **KNN**: Berpotensi underfitting, karena performanya jauh lebih rendah dibanding model lain. KNN bergantung pada jarak antar data yang bisa terganggu oleh distribusi yang tidak seragam atau outlier.\n",
        "\n",
        "---\n",
        "\n",
        "### **Rekomendasi Tindakan Lanjutan**\n",
        "\n",
        "#### 1. **Atasi Precision atau Recall Rendah**:\n",
        "   - **Class Imbalance**:\n",
        "     - Terapkan teknik seperti **SMOTE** (Synthetic Minority Oversampling Technique) untuk meningkatkan jumlah data pada kelas minoritas.\n",
        "     - Gunakan algoritma yang mendukung **class weighting** (misalnya `class_weight='balanced'` di Logistic Regression atau Random Forest).\n",
        "   - **Feature Engineering**:\n",
        "     - Analisis korelasi fitur untuk menambahkan atau mengurangi fitur berdasarkan relevansinya terhadap kelas tertentu.\n",
        "     - Normalisasi atau transformasi fitur untuk algoritma yang sensitif terhadap skala (KNN, Logistic Regression).\n",
        "\n",
        "#### 2. **Atasi Overfitting atau Underfitting**:\n",
        "   - **Decision Tree**:\n",
        "     - Lakukan **pruning** dengan mengatur `max_depth`, `min_samples_split`, atau `min_samples_leaf`.\n",
        "   - **KNN**:\n",
        "     - Lakukan tuning pada jumlah tetangga (`n_neighbors`) untuk menemukan nilai optimal.\n",
        "     - Ubah metrik jarak dari Euclidean ke Manhattan atau lainnya yang sesuai.\n",
        "   - **Ensemble Methods**:\n",
        "     - Random Forest sudah bekerja dengan baik, tetapi jika diperlukan, coba algoritma Gradient Boosting (XGBoost, LightGBM) untuk peningkatan performa lebih lanjut.\n",
        "\n",
        "#### 3. **Gunakan Algoritma Lain**:\n",
        "   - **Support Vector Machines (SVM)**:\n",
        "     - SVM cocok untuk dataset dengan margin yang sempit antara kelas. Eksplor kernel non-linear (RBF).\n",
        "   - **Gradient Boosting**:\n",
        "     - Algoritma seperti XGBoost atau LightGBM bisa memberikan hasil lebih baik dengan kemampuan menangani pola kompleks dan ketidakseimbangan data.\n",
        "   - **Neural Networks**:\n",
        "     - Jika dataset besar dan memiliki pola non-linear yang signifikan, neural networks bisa menjadi opsi, terutama dengan fitur yang relevan.\n",
        "\n",
        "#### 4. **Kumpulkan Data Tambahan**:\n",
        "   - Tambahkan data baru dari kelas yang kurang terwakili atau data dari skenario dunia nyata untuk meningkatkan generalisasi model.\n",
        "   - Pastikan data tambahan memiliki distribusi yang mencerminkan populasi target.\n",
        "\n",
        "#### 5. **Evaluasi dan Validasi**:\n",
        "   - Gunakan **k-fold cross-validation** untuk mengevaluasi stabilitas model.\n",
        "   - Visualisasikan **learning curve** untuk melihat bagaimana performa berubah dengan ukuran data atau parameter model.\n",
        "\n",
        "---\n",
        "\n",
        "### **Kesimpulan**\n",
        "- **Logistic Regression** dan **Random Forest** adalah pilihan terbaik saat ini, dengan performa hampir sempurna.\n",
        "- **Decision Tree** dapat ditingkatkan dengan parameter tuning untuk mencegah overfitting.\n",
        "- **KNN** memiliki kelemahan yang signifikan dalam performa. Jika diperlukan, lakukan tuning atau pertimbangkan mengganti algoritma.\n",
        "- Jika hasil pada kelas tertentu masih kurang memuaskan, langkah seperti penanganan class imbalance, pengayaan fitur, atau mencoba algoritma lain dapat dilakukan."
      ],
      "metadata": {
        "id": "Hm3BhSi6N4_l"
      }
    }
  ]
}